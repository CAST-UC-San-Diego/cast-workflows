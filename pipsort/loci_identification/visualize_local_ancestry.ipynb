{
 "cells": [
  {
   "cell_type": "code",
   "execution_count": null,
   "id": "0",
   "metadata": {},
   "outputs": [],
   "source": [
    "import pandas as pd\n",
    "import matplotlib.pyplot as plt\n",
    "import numpy as np\n",
    "import seaborn as sns"
   ]
  },
  {
   "cell_type": "code",
   "execution_count": null,
   "id": "1",
   "metadata": {},
   "outputs": [],
   "source": [
    "def plot_subset(f_saples):\n",
    "    \n",
    "    samples = pd.read_csv(f_samples, sep=\"\\t\")\n",
    "    merge = samples.merge(genotypes, left_on=\"IID\", right_on=\"person_id\", how=\"inner\")\n",
    "    plt.scatter(merge['geno'], merge['phenotype'])\n",
    "    plt.title(f_samples)\n",
    "    return plt"
   ]
  },
  {
   "cell_type": "code",
   "execution_count": null,
   "id": "2",
   "metadata": {},
   "outputs": [],
   "source": [
    "genotypes = pd.read_csv(\"rs11168249genotypes.csv\")\n",
    "genotypes = genotypes[genotypes['geno'] != -9]"
   ]
  },
  {
   "cell_type": "code",
   "execution_count": null,
   "id": "3",
   "metadata": {},
   "outputs": [],
   "source": [
    "files = ['AFR_BLACK_eur_0', 'AFR_BLACK_eur_1', 'AFR_BLACK_eur_2', \n",
    "         'NOT_AFR_BLACK_eur_0', 'NOT_AFR_BLACK_eur_1', 'NOT_AFR_BLACK_eur_2', \n",
    "         'passing_samples_v7_eur_0', 'passing_samples_v7_eur_1', 'passing_samples_v7_eur_2']"
   ]
  },
  {
   "cell_type": "code",
   "execution_count": null,
   "id": "4",
   "metadata": {},
   "outputs": [],
   "source": [
    "fig, axs = plt.subplots(3, 3, figsize=(15, 10))\n",
    "axs = axs.flatten()\n",
    "for i, file in enumerate(files):\n",
    "    samples = pd.read_csv(file, sep=\"\\t\")\n",
    "    merge = samples.merge(genotypes, left_on=\"IID\", right_on=\"person_id\", how=\"inner\")\n",
    "    \n",
    "    sns.boxplot(x='geno', y='phenotype', data=merge, ax=axs[i])\n",
    "\n",
    "    axs[i].set_title(file)  # Set title for each subplot\n",
    "    #axs[i].scatter(merge['geno'], merge['phenotype']) # Example plot (replace with your actual plot)\n",
    "    \n",
    "# Hide any unused subplots (if there are less than 9 files)\n",
    "for j in range(i + 1, len(axs)):\n",
    "    axs[j].axis('off')  # Turn off axes for unused subplots\n",
    "\n",
    "# Adjust layout for better spacing\n",
    "plt.tight_layout()\n",
    "plt.show()"
   ]
  },
  {
   "cell_type": "code",
   "execution_count": null,
   "id": "5",
   "metadata": {},
   "outputs": [],
   "source": [
    "files = ['AFR_BLACK_platelet.tsv', 'NOT_AFR_BLACK_platelet.tsv', 'passing_samples_v7_platelet.tsv']\n",
    "\n",
    "fig, axs = plt.subplots(1, 3, figsize=(15, 5))\n",
    "axs = axs.flatten()\n",
    "for i, file in enumerate(files):\n",
    "    samples = pd.read_csv(file, sep=\"\\t\")\n",
    "    merge = samples.merge(genotypes, left_on=\"IID\", right_on=\"person_id\", how=\"inner\")\n",
    "    \n",
    "    sns.boxplot(x='geno', y='phenotype', data=merge, ax=axs[i])\n",
    "\n",
    "    axs[i].set_title(file)  # Set title for each subplot\n",
    "    #axs[i].scatter(merge['geno'], merge['phenotype']) # Example plot (replace with your actual plot)\n",
    "    \n",
    "# Hide any unused subplots (if there are less than 9 files)\n",
    "for j in range(i + 1, len(axs)):\n",
    "    axs[j].axis('off')  # Turn off axes for unused subplots\n",
    "\n",
    "# Adjust layout for better spacing\n",
    "plt.tight_layout()\n",
    "plt.show()"
   ]
  },
  {
   "cell_type": "code",
   "execution_count": null,
   "id": "6",
   "metadata": {},
   "outputs": [],
   "source": []
  }
 ],
 "metadata": {
  "kernelspec": {
   "display_name": "Python 3",
   "language": "python",
   "name": "python3"
  },
  "language_info": {
   "codemirror_mode": {
    "name": "ipython",
    "version": 3
   },
   "file_extension": ".py",
   "mimetype": "text/x-python",
   "name": "python",
   "nbconvert_exporter": "python",
   "pygments_lexer": "ipython3",
   "version": "3.10.12"
  },
  "toc": {
   "base_numbering": 1,
   "nav_menu": {},
   "number_sections": true,
   "sideBar": true,
   "skip_h1_title": false,
   "title_cell": "Table of Contents",
   "title_sidebar": "Contents",
   "toc_cell": false,
   "toc_position": {},
   "toc_section_display": true,
   "toc_window_display": false
  }
 },
 "nbformat": 4,
 "nbformat_minor": 5
}
